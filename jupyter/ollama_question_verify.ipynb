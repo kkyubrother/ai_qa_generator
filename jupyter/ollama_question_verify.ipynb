{
 "cells": [
  {
   "cell_type": "code",
   "id": "initial_id",
   "metadata": {
    "collapsed": true,
    "ExecuteTime": {
     "end_time": "2024-11-12T02:44:14.245272Z",
     "start_time": "2024-11-12T02:44:13.992805Z"
    }
   },
   "source": "import ollama",
   "outputs": [],
   "execution_count": 1
  },
  {
   "metadata": {
    "ExecuteTime": {
     "end_time": "2024-11-12T02:44:21.240622Z",
     "start_time": "2024-11-12T02:44:20.500367Z"
    }
   },
   "cell_type": "code",
   "source": "client = ollama.Client()",
   "id": "ec1bf71ccafa4dc4",
   "outputs": [],
   "execution_count": 2
  },
  {
   "metadata": {
    "ExecuteTime": {
     "end_time": "2024-11-12T02:49:23.385139Z",
     "start_time": "2024-11-12T02:49:19.589884Z"
    }
   },
   "cell_type": "code",
   "source": [
    "response = client.generate(\n",
    "    model='aya-expanse',\n",
    "    system=\"당신은 뛰어난 문제 검증 위원입니다. 문제와 본문이 올바르게 이어져있는지 검증하시오.\",\n",
    "    prompt=\"\"\"\n",
    "    <본문>그러자 어른들은 내게 충고하길 엉뚱한 보아 뱀이나 그리지 말고 지리, 역사, 샘(계산)나 문법에 취미를 들여보래. 그리 하여 난 여섯 날에 화가의 꿈을 접어야 했지. 내 첫 그림과 두 번째 그림이 영 쓸모 없자 낙담하고 말았거든. 나의 이런 일 들에 대해 어른들은 전혀 관심도 없었지. 설명을 해대는 아인 피곤하다는 투였으니.그래서 다른 직업을 선택하게 된 거야. 그게 하늘을 나는 비행사지. 난 정말 전 세계를 날아다녔어. 그리 되니 지리학도 좀 도움이 되데. 난 중국이나 애리조나(미국의 주 이름)도 한눈에 첫 보면 알았지. 밤에 길을 잃었을 때도 지리학에 대한 앎 이 도움이 되었고 말이야.살아오며 다양한 사람들을 만났어, 대갠 심각한 어른들이었지. 난 그들 사이에 살아야 했으니깐. 그럼 난 그들에게 내 그림을 보여주었단다. 내 의견을 개진하지 않고 말이야.명석해 보이는 이들을 만날 때면 난 아끼며 보관해오던 내 첫 그림을 그분들께 보여주었지. 그들이 정말로 이해할까 알 고 싶었거든. 하지만 대답은 항상 이랬어. 모자군요. 그럼 난 보아 뱀 얘긴 꺼내지도 않았지 물론 숲 얘기나 별 얘기도 하지 않았어. 난 그들에게 내 자신을 맞추며, 기껏 '브리지'(카드 게임의 일종), 골프, 정치 그리고 술에 관한 얘기만 했을 뿐이 야. 그럼 어른들은 죄다 날 합리적인 사람이라 말하며 기뻐들 했지.</본문>\n",
    "    <문제>{'questions': [{'question': '어른들은 저자에게 어떤 주제에 관심을 가지라고 조언했나요?', 'options': ['미술', '지리', '역사', '수학, 문법'], 'answer': 1}, {'question': '저자가 다른 직업을 선택한 이유는 무엇이었을까요? (단어 선택에 주의하세요)', 'options': ['그림 실력 부족', '지리적 지식 활용', '세계 여행', '사람들과의 갈등'], 'answer': 0}]}</문제>\"\"\",\n",
    "    format='json'\n",
    ")\n",
    "response['response']"
   ],
   "id": "1c2a67c7fb768c08",
   "outputs": [
    {
     "data": {
      "text/plain": [
       "'{\\n    \"questions\": [\\n        {\\n            \"question\": \"어른들은 저자에게 어떤 주제에 관심을 가지라고 조언했나요?\",\\n            \"options\": [\"미술\", \"지리\", \"역사\", \"수학, 문법\"],\\n            \"answer\": 1\\n        },\\n        {\\n            \"question\": \"저자가 다른 직업을 선택한 이유는 무엇이었을까요? (단어 선택에 주의하세요)\",\\n            \"options\": [\"그림 실력 부족\", \"지리적 지식 활용\", \"세계 여행\", \"사람들과의 갈등\"],\\n            \"answer\": 0\\n        }\\n    ],\\n    \"validation\": true\\n}\\n\\n\\n                                      \\n\\n                                                               \\n\\n                                                               \\n\\n\\n\\n  \\n\\n\\t  \\n\\n                                                                 \\n\\n\\n\\n  \\n\\n\\n  \\n\\n\\n\\n\\n  \\n\\n\\n                                    \\n\\n                                           \\n'"
      ]
     },
     "execution_count": 8,
     "metadata": {},
     "output_type": "execute_result"
    }
   ],
   "execution_count": 8
  },
  {
   "metadata": {},
   "cell_type": "code",
   "outputs": [],
   "execution_count": null,
   "source": "",
   "id": "9e8c93ec9e58e4d2"
  }
 ],
 "metadata": {
  "kernelspec": {
   "display_name": "Python 3",
   "language": "python",
   "name": "python3"
  },
  "language_info": {
   "codemirror_mode": {
    "name": "ipython",
    "version": 2
   },
   "file_extension": ".py",
   "mimetype": "text/x-python",
   "name": "python",
   "nbconvert_exporter": "python",
   "pygments_lexer": "ipython2",
   "version": "2.7.6"
  }
 },
 "nbformat": 4,
 "nbformat_minor": 5
}
